{
 "cells": [
  {
   "cell_type": "code",
   "execution_count": 7,
   "id": "cb24b856",
   "metadata": {},
   "outputs": [],
   "source": [
    "from gensim.models import FastText"
   ]
  },
  {
   "cell_type": "code",
   "execution_count": 8,
   "id": "116a219f",
   "metadata": {},
   "outputs": [],
   "source": [
    "my_fast = FastText.load(\"fast_text.model\")"
   ]
  },
  {
   "cell_type": "code",
   "execution_count": 9,
   "id": "2db0dc5c",
   "metadata": {},
   "outputs": [],
   "source": [
    "vectors = my_fast.wv"
   ]
  },
  {
   "cell_type": "code",
   "execution_count": 16,
   "id": "e62754d1",
   "metadata": {},
   "outputs": [
    {
     "data": {
      "text/plain": [
       "9049"
      ]
     },
     "execution_count": 16,
     "metadata": {},
     "output_type": "execute_result"
    }
   ],
   "source": [
    "vocabs = [x for x in my_fast.wv.key_to_index.keys()]\n",
    "len(vocabs)"
   ]
  },
  {
   "cell_type": "code",
   "execution_count": null,
   "id": "219df106",
   "metadata": {},
   "outputs": [],
   "source": [
    "from sklearn.decomposition import PCA\n",
    "pca = PCA(n_components=2)\n",
    "xys = pca.fit_transform(vectors)\n",
    "xs = xsys[:, 0]\n",
    "ys = xys[:, 1]"
   ]
  },
  {
   "cell_type": "code",
   "execution_count": null,
   "id": "9ffea65d",
   "metadata": {},
   "outputs": [],
   "source": [
    "import matplotlib.pyplot as plt\n",
    "\n",
    "def plot_2d_graph(vocabs, xs, ys):\n",
    "    plt.figure(figsize=(8,6))\n",
    "    plt.scatter(xs, ys, marker = 'o')\n",
    "    for i, v in enumerate(vocabs):\n",
    "        plt.annotate(v, xy=(xs[i], ys[i]))"
   ]
  },
  {
   "cell_type": "code",
   "execution_count": null,
   "id": "916cff1f",
   "metadata": {},
   "outputs": [],
   "source": [
    "plot_2d_graph(vocabs, xs, ys)"
   ]
  }
 ],
 "metadata": {
  "kernelspec": {
   "display_name": "Python 3 (ipykernel)",
   "language": "python",
   "name": "python3"
  },
  "language_info": {
   "codemirror_mode": {
    "name": "ipython",
    "version": 3
   },
   "file_extension": ".py",
   "mimetype": "text/x-python",
   "name": "python",
   "nbconvert_exporter": "python",
   "pygments_lexer": "ipython3",
   "version": "3.8.13"
  }
 },
 "nbformat": 4,
 "nbformat_minor": 5
}
